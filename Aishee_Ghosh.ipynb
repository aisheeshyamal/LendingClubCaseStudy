{
 "cells": [
  {
   "cell_type": "markdown",
   "id": "7037c1aa",
   "metadata": {},
   "source": [
    "# Data Understanding"
   ]
  },
  {
   "cell_type": "code",
   "execution_count": null,
   "id": "0ce17c86",
   "metadata": {},
   "outputs": [],
   "source": [
    "\"\"\"\n",
    "variables for defaulters \n",
    "1.annual_inc =>this will decide eligible for loan or not\n",
    "2.application_type(individual/joint)=>Individual loan or two borrowers\n",
    "3.avg_cur_bal=> important factor how much balance he has whether he will be able to pay emi or not\n",
    "4.chargeoff_within_12_mths=> how many times he/she is defaulter in last 12 months,this will tell us about his/her behaviour\n",
    "5.delinq_2yrs=>Defaulter for how much time.Again tells about borrower behaviour \n",
    "6.delinq_amnt=> for how much amount he /she is deliquent ,will help us to decide it a risky one or not \n",
    "7.emp_length=> he/she has continuous source of income or not\n",
    "\n",
    "\n",
    "\n",
    "\n",
    "\"\"\"\n"
   ]
  },
  {
   "cell_type": "markdown",
   "id": "3b3bbcaa",
   "metadata": {},
   "source": [
    "# Data Sourcing"
   ]
  },
  {
   "cell_type": "code",
   "execution_count": 29,
   "id": "c3c0f7b0",
   "metadata": {},
   "outputs": [
    {
     "data": {
      "text/html": [
       "<div>\n",
       "<style scoped>\n",
       "    .dataframe tbody tr th:only-of-type {\n",
       "        vertical-align: middle;\n",
       "    }\n",
       "\n",
       "    .dataframe tbody tr th {\n",
       "        vertical-align: top;\n",
       "    }\n",
       "\n",
       "    .dataframe thead th {\n",
       "        text-align: right;\n",
       "    }\n",
       "</style>\n",
       "<table border=\"1\" class=\"dataframe\">\n",
       "  <thead>\n",
       "    <tr style=\"text-align: right;\">\n",
       "      <th></th>\n",
       "      <th>id</th>\n",
       "      <th>member_id</th>\n",
       "      <th>loan_amnt</th>\n",
       "      <th>funded_amnt</th>\n",
       "      <th>funded_amnt_inv</th>\n",
       "      <th>term</th>\n",
       "      <th>int_rate</th>\n",
       "      <th>installment</th>\n",
       "      <th>grade</th>\n",
       "      <th>sub_grade</th>\n",
       "      <th>...</th>\n",
       "      <th>num_tl_90g_dpd_24m</th>\n",
       "      <th>num_tl_op_past_12m</th>\n",
       "      <th>pct_tl_nvr_dlq</th>\n",
       "      <th>percent_bc_gt_75</th>\n",
       "      <th>pub_rec_bankruptcies</th>\n",
       "      <th>tax_liens</th>\n",
       "      <th>tot_hi_cred_lim</th>\n",
       "      <th>total_bal_ex_mort</th>\n",
       "      <th>total_bc_limit</th>\n",
       "      <th>total_il_high_credit_limit</th>\n",
       "    </tr>\n",
       "  </thead>\n",
       "  <tbody>\n",
       "    <tr>\n",
       "      <th>0</th>\n",
       "      <td>1077501</td>\n",
       "      <td>1296599</td>\n",
       "      <td>5000</td>\n",
       "      <td>5000</td>\n",
       "      <td>4975.0</td>\n",
       "      <td>36 months</td>\n",
       "      <td>10.65%</td>\n",
       "      <td>162.87</td>\n",
       "      <td>B</td>\n",
       "      <td>B2</td>\n",
       "      <td>...</td>\n",
       "      <td>NaN</td>\n",
       "      <td>NaN</td>\n",
       "      <td>NaN</td>\n",
       "      <td>NaN</td>\n",
       "      <td>0.0</td>\n",
       "      <td>0.0</td>\n",
       "      <td>NaN</td>\n",
       "      <td>NaN</td>\n",
       "      <td>NaN</td>\n",
       "      <td>NaN</td>\n",
       "    </tr>\n",
       "    <tr>\n",
       "      <th>1</th>\n",
       "      <td>1077430</td>\n",
       "      <td>1314167</td>\n",
       "      <td>2500</td>\n",
       "      <td>2500</td>\n",
       "      <td>2500.0</td>\n",
       "      <td>60 months</td>\n",
       "      <td>15.27%</td>\n",
       "      <td>59.83</td>\n",
       "      <td>C</td>\n",
       "      <td>C4</td>\n",
       "      <td>...</td>\n",
       "      <td>NaN</td>\n",
       "      <td>NaN</td>\n",
       "      <td>NaN</td>\n",
       "      <td>NaN</td>\n",
       "      <td>0.0</td>\n",
       "      <td>0.0</td>\n",
       "      <td>NaN</td>\n",
       "      <td>NaN</td>\n",
       "      <td>NaN</td>\n",
       "      <td>NaN</td>\n",
       "    </tr>\n",
       "    <tr>\n",
       "      <th>2</th>\n",
       "      <td>1077175</td>\n",
       "      <td>1313524</td>\n",
       "      <td>2400</td>\n",
       "      <td>2400</td>\n",
       "      <td>2400.0</td>\n",
       "      <td>36 months</td>\n",
       "      <td>15.96%</td>\n",
       "      <td>84.33</td>\n",
       "      <td>C</td>\n",
       "      <td>C5</td>\n",
       "      <td>...</td>\n",
       "      <td>NaN</td>\n",
       "      <td>NaN</td>\n",
       "      <td>NaN</td>\n",
       "      <td>NaN</td>\n",
       "      <td>0.0</td>\n",
       "      <td>0.0</td>\n",
       "      <td>NaN</td>\n",
       "      <td>NaN</td>\n",
       "      <td>NaN</td>\n",
       "      <td>NaN</td>\n",
       "    </tr>\n",
       "    <tr>\n",
       "      <th>3</th>\n",
       "      <td>1076863</td>\n",
       "      <td>1277178</td>\n",
       "      <td>10000</td>\n",
       "      <td>10000</td>\n",
       "      <td>10000.0</td>\n",
       "      <td>36 months</td>\n",
       "      <td>13.49%</td>\n",
       "      <td>339.31</td>\n",
       "      <td>C</td>\n",
       "      <td>C1</td>\n",
       "      <td>...</td>\n",
       "      <td>NaN</td>\n",
       "      <td>NaN</td>\n",
       "      <td>NaN</td>\n",
       "      <td>NaN</td>\n",
       "      <td>0.0</td>\n",
       "      <td>0.0</td>\n",
       "      <td>NaN</td>\n",
       "      <td>NaN</td>\n",
       "      <td>NaN</td>\n",
       "      <td>NaN</td>\n",
       "    </tr>\n",
       "    <tr>\n",
       "      <th>4</th>\n",
       "      <td>1075358</td>\n",
       "      <td>1311748</td>\n",
       "      <td>3000</td>\n",
       "      <td>3000</td>\n",
       "      <td>3000.0</td>\n",
       "      <td>60 months</td>\n",
       "      <td>12.69%</td>\n",
       "      <td>67.79</td>\n",
       "      <td>B</td>\n",
       "      <td>B5</td>\n",
       "      <td>...</td>\n",
       "      <td>NaN</td>\n",
       "      <td>NaN</td>\n",
       "      <td>NaN</td>\n",
       "      <td>NaN</td>\n",
       "      <td>0.0</td>\n",
       "      <td>0.0</td>\n",
       "      <td>NaN</td>\n",
       "      <td>NaN</td>\n",
       "      <td>NaN</td>\n",
       "      <td>NaN</td>\n",
       "    </tr>\n",
       "    <tr>\n",
       "      <th>...</th>\n",
       "      <td>...</td>\n",
       "      <td>...</td>\n",
       "      <td>...</td>\n",
       "      <td>...</td>\n",
       "      <td>...</td>\n",
       "      <td>...</td>\n",
       "      <td>...</td>\n",
       "      <td>...</td>\n",
       "      <td>...</td>\n",
       "      <td>...</td>\n",
       "      <td>...</td>\n",
       "      <td>...</td>\n",
       "      <td>...</td>\n",
       "      <td>...</td>\n",
       "      <td>...</td>\n",
       "      <td>...</td>\n",
       "      <td>...</td>\n",
       "      <td>...</td>\n",
       "      <td>...</td>\n",
       "      <td>...</td>\n",
       "      <td>...</td>\n",
       "    </tr>\n",
       "    <tr>\n",
       "      <th>39712</th>\n",
       "      <td>92187</td>\n",
       "      <td>92174</td>\n",
       "      <td>2500</td>\n",
       "      <td>2500</td>\n",
       "      <td>1075.0</td>\n",
       "      <td>36 months</td>\n",
       "      <td>8.07%</td>\n",
       "      <td>78.42</td>\n",
       "      <td>A</td>\n",
       "      <td>A4</td>\n",
       "      <td>...</td>\n",
       "      <td>NaN</td>\n",
       "      <td>NaN</td>\n",
       "      <td>NaN</td>\n",
       "      <td>NaN</td>\n",
       "      <td>NaN</td>\n",
       "      <td>NaN</td>\n",
       "      <td>NaN</td>\n",
       "      <td>NaN</td>\n",
       "      <td>NaN</td>\n",
       "      <td>NaN</td>\n",
       "    </tr>\n",
       "    <tr>\n",
       "      <th>39713</th>\n",
       "      <td>90665</td>\n",
       "      <td>90607</td>\n",
       "      <td>8500</td>\n",
       "      <td>8500</td>\n",
       "      <td>875.0</td>\n",
       "      <td>36 months</td>\n",
       "      <td>10.28%</td>\n",
       "      <td>275.38</td>\n",
       "      <td>C</td>\n",
       "      <td>C1</td>\n",
       "      <td>...</td>\n",
       "      <td>NaN</td>\n",
       "      <td>NaN</td>\n",
       "      <td>NaN</td>\n",
       "      <td>NaN</td>\n",
       "      <td>NaN</td>\n",
       "      <td>NaN</td>\n",
       "      <td>NaN</td>\n",
       "      <td>NaN</td>\n",
       "      <td>NaN</td>\n",
       "      <td>NaN</td>\n",
       "    </tr>\n",
       "    <tr>\n",
       "      <th>39714</th>\n",
       "      <td>90395</td>\n",
       "      <td>90390</td>\n",
       "      <td>5000</td>\n",
       "      <td>5000</td>\n",
       "      <td>1325.0</td>\n",
       "      <td>36 months</td>\n",
       "      <td>8.07%</td>\n",
       "      <td>156.84</td>\n",
       "      <td>A</td>\n",
       "      <td>A4</td>\n",
       "      <td>...</td>\n",
       "      <td>NaN</td>\n",
       "      <td>NaN</td>\n",
       "      <td>NaN</td>\n",
       "      <td>NaN</td>\n",
       "      <td>NaN</td>\n",
       "      <td>NaN</td>\n",
       "      <td>NaN</td>\n",
       "      <td>NaN</td>\n",
       "      <td>NaN</td>\n",
       "      <td>NaN</td>\n",
       "    </tr>\n",
       "    <tr>\n",
       "      <th>39715</th>\n",
       "      <td>90376</td>\n",
       "      <td>89243</td>\n",
       "      <td>5000</td>\n",
       "      <td>5000</td>\n",
       "      <td>650.0</td>\n",
       "      <td>36 months</td>\n",
       "      <td>7.43%</td>\n",
       "      <td>155.38</td>\n",
       "      <td>A</td>\n",
       "      <td>A2</td>\n",
       "      <td>...</td>\n",
       "      <td>NaN</td>\n",
       "      <td>NaN</td>\n",
       "      <td>NaN</td>\n",
       "      <td>NaN</td>\n",
       "      <td>NaN</td>\n",
       "      <td>NaN</td>\n",
       "      <td>NaN</td>\n",
       "      <td>NaN</td>\n",
       "      <td>NaN</td>\n",
       "      <td>NaN</td>\n",
       "    </tr>\n",
       "    <tr>\n",
       "      <th>39716</th>\n",
       "      <td>87023</td>\n",
       "      <td>86999</td>\n",
       "      <td>7500</td>\n",
       "      <td>7500</td>\n",
       "      <td>800.0</td>\n",
       "      <td>36 months</td>\n",
       "      <td>13.75%</td>\n",
       "      <td>255.43</td>\n",
       "      <td>E</td>\n",
       "      <td>E2</td>\n",
       "      <td>...</td>\n",
       "      <td>NaN</td>\n",
       "      <td>NaN</td>\n",
       "      <td>NaN</td>\n",
       "      <td>NaN</td>\n",
       "      <td>NaN</td>\n",
       "      <td>NaN</td>\n",
       "      <td>NaN</td>\n",
       "      <td>NaN</td>\n",
       "      <td>NaN</td>\n",
       "      <td>NaN</td>\n",
       "    </tr>\n",
       "  </tbody>\n",
       "</table>\n",
       "<p>39717 rows × 111 columns</p>\n",
       "</div>"
      ],
      "text/plain": [
       "            id  member_id  loan_amnt  funded_amnt  funded_amnt_inv  \\\n",
       "0      1077501    1296599       5000         5000           4975.0   \n",
       "1      1077430    1314167       2500         2500           2500.0   \n",
       "2      1077175    1313524       2400         2400           2400.0   \n",
       "3      1076863    1277178      10000        10000          10000.0   \n",
       "4      1075358    1311748       3000         3000           3000.0   \n",
       "...        ...        ...        ...          ...              ...   \n",
       "39712    92187      92174       2500         2500           1075.0   \n",
       "39713    90665      90607       8500         8500            875.0   \n",
       "39714    90395      90390       5000         5000           1325.0   \n",
       "39715    90376      89243       5000         5000            650.0   \n",
       "39716    87023      86999       7500         7500            800.0   \n",
       "\n",
       "             term int_rate  installment grade sub_grade  ...  \\\n",
       "0       36 months   10.65%       162.87     B        B2  ...   \n",
       "1       60 months   15.27%        59.83     C        C4  ...   \n",
       "2       36 months   15.96%        84.33     C        C5  ...   \n",
       "3       36 months   13.49%       339.31     C        C1  ...   \n",
       "4       60 months   12.69%        67.79     B        B5  ...   \n",
       "...           ...      ...          ...   ...       ...  ...   \n",
       "39712   36 months    8.07%        78.42     A        A4  ...   \n",
       "39713   36 months   10.28%       275.38     C        C1  ...   \n",
       "39714   36 months    8.07%       156.84     A        A4  ...   \n",
       "39715   36 months    7.43%       155.38     A        A2  ...   \n",
       "39716   36 months   13.75%       255.43     E        E2  ...   \n",
       "\n",
       "      num_tl_90g_dpd_24m num_tl_op_past_12m pct_tl_nvr_dlq  percent_bc_gt_75  \\\n",
       "0                    NaN                NaN            NaN               NaN   \n",
       "1                    NaN                NaN            NaN               NaN   \n",
       "2                    NaN                NaN            NaN               NaN   \n",
       "3                    NaN                NaN            NaN               NaN   \n",
       "4                    NaN                NaN            NaN               NaN   \n",
       "...                  ...                ...            ...               ...   \n",
       "39712                NaN                NaN            NaN               NaN   \n",
       "39713                NaN                NaN            NaN               NaN   \n",
       "39714                NaN                NaN            NaN               NaN   \n",
       "39715                NaN                NaN            NaN               NaN   \n",
       "39716                NaN                NaN            NaN               NaN   \n",
       "\n",
       "      pub_rec_bankruptcies tax_liens tot_hi_cred_lim total_bal_ex_mort  \\\n",
       "0                      0.0       0.0             NaN               NaN   \n",
       "1                      0.0       0.0             NaN               NaN   \n",
       "2                      0.0       0.0             NaN               NaN   \n",
       "3                      0.0       0.0             NaN               NaN   \n",
       "4                      0.0       0.0             NaN               NaN   \n",
       "...                    ...       ...             ...               ...   \n",
       "39712                  NaN       NaN             NaN               NaN   \n",
       "39713                  NaN       NaN             NaN               NaN   \n",
       "39714                  NaN       NaN             NaN               NaN   \n",
       "39715                  NaN       NaN             NaN               NaN   \n",
       "39716                  NaN       NaN             NaN               NaN   \n",
       "\n",
       "      total_bc_limit total_il_high_credit_limit  \n",
       "0                NaN                        NaN  \n",
       "1                NaN                        NaN  \n",
       "2                NaN                        NaN  \n",
       "3                NaN                        NaN  \n",
       "4                NaN                        NaN  \n",
       "...              ...                        ...  \n",
       "39712            NaN                        NaN  \n",
       "39713            NaN                        NaN  \n",
       "39714            NaN                        NaN  \n",
       "39715            NaN                        NaN  \n",
       "39716            NaN                        NaN  \n",
       "\n",
       "[39717 rows x 111 columns]"
      ]
     },
     "execution_count": 29,
     "metadata": {},
     "output_type": "execute_result"
    }
   ],
   "source": [
    "import numpy as np\n",
    "import pandas as pd\n",
    "import matplotlib.pyplot as plt#Data Visualization Libraries\n",
    "import seaborn as sns #Data Visualization Libraries\n",
    "import warnings\n",
    "import statistics\n",
    "warnings.filterwarnings('ignore')\n",
    "\n",
    "\n",
    "\n",
    "loandata=pd.read_csv('loan.csv')\n",
    "loandata\n"
   ]
  },
  {
   "cell_type": "markdown",
   "id": "de14c41b",
   "metadata": {},
   "source": [
    "# Data Cleaning\n",
    "\n",
    "##checking number of null values in each column"
   ]
  },
  {
   "cell_type": "code",
   "execution_count": 2,
   "id": "9e871ce9",
   "metadata": {},
   "outputs": [
    {
     "name": "stdout",
     "output_type": "stream",
     "text": [
      "id                                0\n",
      "member_id                         0\n",
      "loan_amnt                         0\n",
      "funded_amnt                       0\n",
      "funded_amnt_inv                   0\n",
      "                              ...  \n",
      "tax_liens                        39\n",
      "tot_hi_cred_lim               39717\n",
      "total_bal_ex_mort             39717\n",
      "total_bc_limit                39717\n",
      "total_il_high_credit_limit    39717\n",
      "Length: 111, dtype: int64\n"
     ]
    }
   ],
   "source": [
    "count=loandata.isnull().sum()\n",
    "print(count)"
   ]
  },
  {
   "cell_type": "code",
   "execution_count": 3,
   "id": "ae290076",
   "metadata": {},
   "outputs": [],
   "source": [
    "##removing current loandata"
   ]
  },
  {
   "cell_type": "code",
   "execution_count": 6,
   "id": "e25d1b56",
   "metadata": {},
   "outputs": [
    {
     "data": {
      "text/plain": [
       "0         Fully Paid\n",
       "1        Charged Off\n",
       "2         Fully Paid\n",
       "3         Fully Paid\n",
       "5         Fully Paid\n",
       "            ...     \n",
       "39712     Fully Paid\n",
       "39713     Fully Paid\n",
       "39714     Fully Paid\n",
       "39715     Fully Paid\n",
       "39716     Fully Paid\n",
       "Name: loan_status, Length: 38577, dtype: object"
      ]
     },
     "execution_count": 6,
     "metadata": {},
     "output_type": "execute_result"
    }
   ],
   "source": [
    "freshData=loandata[loandata['loan_status']!='Current']\n",
    "freshData['loan_status']"
   ]
  },
  {
   "cell_type": "code",
   "execution_count": null,
   "id": "aa1a5fb3",
   "metadata": {},
   "outputs": [],
   "source": [
    "##we need to remove the columns which has null values. So we found below we have many columsn with 100 percent null values. removing them."
   ]
  },
  {
   "cell_type": "code",
   "execution_count": 8,
   "id": "5bce045e",
   "metadata": {},
   "outputs": [
    {
     "data": {
      "text/plain": [
       "{'id': 0.0,\n",
       " 'member_id': 0.0,\n",
       " 'loan_amnt': 0.0,\n",
       " 'funded_amnt': 0.0,\n",
       " 'funded_amnt_inv': 0.0,\n",
       " 'term': 0.0,\n",
       " 'int_rate': 0.0,\n",
       " 'installment': 0.0,\n",
       " 'grade': 0.0,\n",
       " 'sub_grade': 0.0,\n",
       " 'emp_title': 6.191303472064859,\n",
       " 'emp_length': 2.7066495455346575,\n",
       " 'home_ownership': 0.0,\n",
       " 'annual_inc': 0.0,\n",
       " 'verification_status': 0.0,\n",
       " 'issue_d': 0.0,\n",
       " 'loan_status': 0.0,\n",
       " 'pymnt_plan': 0.0,\n",
       " 'url': 0.0,\n",
       " 'desc': 32.58050708764509,\n",
       " 'purpose': 0.0,\n",
       " 'title': 0.027695948838029054,\n",
       " 'zip_code': 0.0,\n",
       " 'addr_state': 0.0,\n",
       " 'dti': 0.0,\n",
       " 'delinq_2yrs': 0.0,\n",
       " 'earliest_cr_line': 0.0,\n",
       " 'inq_last_6mths': 0.0,\n",
       " 'mths_since_last_delinq': 64.66248709620565,\n",
       " 'mths_since_last_record': 92.98537150338646,\n",
       " 'open_acc': 0.0,\n",
       " 'pub_rec': 0.0,\n",
       " 'revol_bal': 0.0,\n",
       " 'revol_util': 0.12589067653649572,\n",
       " 'total_acc': 0.0,\n",
       " 'initial_list_status': 0.0,\n",
       " 'out_prncp': 0.0,\n",
       " 'out_prncp_inv': 0.0,\n",
       " 'total_pymnt': 0.0,\n",
       " 'total_pymnt_inv': 0.0,\n",
       " 'total_rec_prncp': 0.0,\n",
       " 'total_rec_int': 0.0,\n",
       " 'total_rec_late_fee': 0.0,\n",
       " 'recoveries': 0.0,\n",
       " 'collection_recovery_fee': 0.0,\n",
       " 'last_pymnt_d': 0.1787647606818239,\n",
       " 'last_pymnt_amnt': 0.0,\n",
       " 'next_pymnt_d': 97.12969257496789,\n",
       " 'last_credit_pull_d': 0.0050356270614598285,\n",
       " 'collections_12_mths_ex_med': 0.1409975577208752,\n",
       " 'mths_since_last_major_derog': 100.0,\n",
       " 'policy_code': 0.0,\n",
       " 'application_type': 0.0,\n",
       " 'annual_inc_joint': 100.0,\n",
       " 'dti_joint': 100.0,\n",
       " 'verification_status_joint': 100.0,\n",
       " 'acc_now_delinq': 0.0,\n",
       " 'tot_coll_amt': 100.0,\n",
       " 'tot_cur_bal': 100.0,\n",
       " 'open_acc_6m': 100.0,\n",
       " 'open_il_6m': 100.0,\n",
       " 'open_il_12m': 100.0,\n",
       " 'open_il_24m': 100.0,\n",
       " 'mths_since_rcnt_il': 100.0,\n",
       " 'total_bal_il': 100.0,\n",
       " 'il_util': 100.0,\n",
       " 'open_rv_12m': 100.0,\n",
       " 'open_rv_24m': 100.0,\n",
       " 'max_bal_bc': 100.0,\n",
       " 'all_util': 100.0,\n",
       " 'total_rev_hi_lim': 100.0,\n",
       " 'inq_fi': 100.0,\n",
       " 'total_cu_tl': 100.0,\n",
       " 'inq_last_12m': 100.0,\n",
       " 'acc_open_past_24mths': 100.0,\n",
       " 'avg_cur_bal': 100.0,\n",
       " 'bc_open_to_buy': 100.0,\n",
       " 'bc_util': 100.0,\n",
       " 'chargeoff_within_12_mths': 0.1409975577208752,\n",
       " 'delinq_amnt': 0.0,\n",
       " 'mo_sin_old_il_acct': 100.0,\n",
       " 'mo_sin_old_rev_tl_op': 100.0,\n",
       " 'mo_sin_rcnt_rev_tl_op': 100.0,\n",
       " 'mo_sin_rcnt_tl': 100.0,\n",
       " 'mort_acc': 100.0,\n",
       " 'mths_since_recent_bc': 100.0,\n",
       " 'mths_since_recent_bc_dlq': 100.0,\n",
       " 'mths_since_recent_inq': 100.0,\n",
       " 'mths_since_recent_revol_delinq': 100.0,\n",
       " 'num_accts_ever_120_pd': 100.0,\n",
       " 'num_actv_bc_tl': 100.0,\n",
       " 'num_actv_rev_tl': 100.0,\n",
       " 'num_bc_sats': 100.0,\n",
       " 'num_bc_tl': 100.0,\n",
       " 'num_il_tl': 100.0,\n",
       " 'num_op_rev_tl': 100.0,\n",
       " 'num_rev_accts': 100.0,\n",
       " 'num_rev_tl_bal_gt_0': 100.0,\n",
       " 'num_sats': 100.0,\n",
       " 'num_tl_120dpd_2m': 100.0,\n",
       " 'num_tl_30dpd': 100.0,\n",
       " 'num_tl_90g_dpd_24m': 100.0,\n",
       " 'num_tl_op_past_12m': 100.0,\n",
       " 'pct_tl_nvr_dlq': 100.0,\n",
       " 'percent_bc_gt_75': 100.0,\n",
       " 'pub_rec_bankruptcies': 1.7549160309187504,\n",
       " 'tax_liens': 0.09819472769846666,\n",
       " 'tot_hi_cred_lim': 100.0,\n",
       " 'total_bal_ex_mort': 100.0,\n",
       " 'total_bc_limit': 100.0,\n",
       " 'total_il_high_credit_limit': 100.0}"
      ]
     },
     "execution_count": 8,
     "metadata": {},
     "output_type": "execute_result"
    }
   ],
   "source": [
    "dict((loandata.isnull().sum()/loandata.shape[0])*100)"
   ]
  },
  {
   "cell_type": "code",
   "execution_count": 93,
   "id": "867f4ea9",
   "metadata": {},
   "outputs": [
    {
     "data": {
      "text/html": [
       "<div>\n",
       "<style scoped>\n",
       "    .dataframe tbody tr th:only-of-type {\n",
       "        vertical-align: middle;\n",
       "    }\n",
       "\n",
       "    .dataframe tbody tr th {\n",
       "        vertical-align: top;\n",
       "    }\n",
       "\n",
       "    .dataframe thead th {\n",
       "        text-align: right;\n",
       "    }\n",
       "</style>\n",
       "<table border=\"1\" class=\"dataframe\">\n",
       "  <thead>\n",
       "    <tr style=\"text-align: right;\">\n",
       "      <th></th>\n",
       "      <th>loan_amnt</th>\n",
       "      <th>loan_status</th>\n",
       "      <th>term</th>\n",
       "      <th>int_rate</th>\n",
       "      <th>grade</th>\n",
       "      <th>issue_d</th>\n",
       "      <th>sub_grade</th>\n",
       "      <th>annual_inc</th>\n",
       "      <th>purpose</th>\n",
       "      <th>dti</th>\n",
       "      <th>emp_length</th>\n",
       "      <th>home_ownership</th>\n",
       "      <th>verification_status</th>\n",
       "      <th>addr_state</th>\n",
       "    </tr>\n",
       "  </thead>\n",
       "  <tbody>\n",
       "    <tr>\n",
       "      <th>0</th>\n",
       "      <td>5000</td>\n",
       "      <td>Fully Paid</td>\n",
       "      <td>36 months</td>\n",
       "      <td>10.65%</td>\n",
       "      <td>B</td>\n",
       "      <td>Dec-11</td>\n",
       "      <td>B2</td>\n",
       "      <td>24000.0</td>\n",
       "      <td>credit_card</td>\n",
       "      <td>27.65</td>\n",
       "      <td>10+ years</td>\n",
       "      <td>RENT</td>\n",
       "      <td>Verified</td>\n",
       "      <td>AZ</td>\n",
       "    </tr>\n",
       "    <tr>\n",
       "      <th>1</th>\n",
       "      <td>2500</td>\n",
       "      <td>Charged Off</td>\n",
       "      <td>60 months</td>\n",
       "      <td>15.27%</td>\n",
       "      <td>C</td>\n",
       "      <td>Dec-11</td>\n",
       "      <td>C4</td>\n",
       "      <td>30000.0</td>\n",
       "      <td>car</td>\n",
       "      <td>1.00</td>\n",
       "      <td>&lt; 1 year</td>\n",
       "      <td>RENT</td>\n",
       "      <td>Source Verified</td>\n",
       "      <td>GA</td>\n",
       "    </tr>\n",
       "    <tr>\n",
       "      <th>2</th>\n",
       "      <td>2400</td>\n",
       "      <td>Fully Paid</td>\n",
       "      <td>36 months</td>\n",
       "      <td>15.96%</td>\n",
       "      <td>C</td>\n",
       "      <td>Dec-11</td>\n",
       "      <td>C5</td>\n",
       "      <td>12252.0</td>\n",
       "      <td>small_business</td>\n",
       "      <td>8.72</td>\n",
       "      <td>10+ years</td>\n",
       "      <td>RENT</td>\n",
       "      <td>Not Verified</td>\n",
       "      <td>IL</td>\n",
       "    </tr>\n",
       "    <tr>\n",
       "      <th>3</th>\n",
       "      <td>10000</td>\n",
       "      <td>Fully Paid</td>\n",
       "      <td>36 months</td>\n",
       "      <td>13.49%</td>\n",
       "      <td>C</td>\n",
       "      <td>Dec-11</td>\n",
       "      <td>C1</td>\n",
       "      <td>49200.0</td>\n",
       "      <td>other</td>\n",
       "      <td>20.00</td>\n",
       "      <td>10+ years</td>\n",
       "      <td>RENT</td>\n",
       "      <td>Source Verified</td>\n",
       "      <td>CA</td>\n",
       "    </tr>\n",
       "    <tr>\n",
       "      <th>4</th>\n",
       "      <td>3000</td>\n",
       "      <td>Current</td>\n",
       "      <td>60 months</td>\n",
       "      <td>12.69%</td>\n",
       "      <td>B</td>\n",
       "      <td>Dec-11</td>\n",
       "      <td>B5</td>\n",
       "      <td>80000.0</td>\n",
       "      <td>other</td>\n",
       "      <td>17.94</td>\n",
       "      <td>1 year</td>\n",
       "      <td>RENT</td>\n",
       "      <td>Source Verified</td>\n",
       "      <td>OR</td>\n",
       "    </tr>\n",
       "    <tr>\n",
       "      <th>...</th>\n",
       "      <td>...</td>\n",
       "      <td>...</td>\n",
       "      <td>...</td>\n",
       "      <td>...</td>\n",
       "      <td>...</td>\n",
       "      <td>...</td>\n",
       "      <td>...</td>\n",
       "      <td>...</td>\n",
       "      <td>...</td>\n",
       "      <td>...</td>\n",
       "      <td>...</td>\n",
       "      <td>...</td>\n",
       "      <td>...</td>\n",
       "      <td>...</td>\n",
       "    </tr>\n",
       "    <tr>\n",
       "      <th>39712</th>\n",
       "      <td>2500</td>\n",
       "      <td>Fully Paid</td>\n",
       "      <td>36 months</td>\n",
       "      <td>8.07%</td>\n",
       "      <td>A</td>\n",
       "      <td>Jul-07</td>\n",
       "      <td>A4</td>\n",
       "      <td>110000.0</td>\n",
       "      <td>home_improvement</td>\n",
       "      <td>11.33</td>\n",
       "      <td>4 years</td>\n",
       "      <td>MORTGAGE</td>\n",
       "      <td>Not Verified</td>\n",
       "      <td>CO</td>\n",
       "    </tr>\n",
       "    <tr>\n",
       "      <th>39713</th>\n",
       "      <td>8500</td>\n",
       "      <td>Fully Paid</td>\n",
       "      <td>36 months</td>\n",
       "      <td>10.28%</td>\n",
       "      <td>C</td>\n",
       "      <td>Jul-07</td>\n",
       "      <td>C1</td>\n",
       "      <td>18000.0</td>\n",
       "      <td>credit_card</td>\n",
       "      <td>6.40</td>\n",
       "      <td>3 years</td>\n",
       "      <td>RENT</td>\n",
       "      <td>Not Verified</td>\n",
       "      <td>NC</td>\n",
       "    </tr>\n",
       "    <tr>\n",
       "      <th>39714</th>\n",
       "      <td>5000</td>\n",
       "      <td>Fully Paid</td>\n",
       "      <td>36 months</td>\n",
       "      <td>8.07%</td>\n",
       "      <td>A</td>\n",
       "      <td>Jul-07</td>\n",
       "      <td>A4</td>\n",
       "      <td>100000.0</td>\n",
       "      <td>debt_consolidation</td>\n",
       "      <td>2.30</td>\n",
       "      <td>&lt; 1 year</td>\n",
       "      <td>MORTGAGE</td>\n",
       "      <td>Not Verified</td>\n",
       "      <td>MA</td>\n",
       "    </tr>\n",
       "    <tr>\n",
       "      <th>39715</th>\n",
       "      <td>5000</td>\n",
       "      <td>Fully Paid</td>\n",
       "      <td>36 months</td>\n",
       "      <td>7.43%</td>\n",
       "      <td>A</td>\n",
       "      <td>Jul-07</td>\n",
       "      <td>A2</td>\n",
       "      <td>200000.0</td>\n",
       "      <td>other</td>\n",
       "      <td>3.72</td>\n",
       "      <td>&lt; 1 year</td>\n",
       "      <td>MORTGAGE</td>\n",
       "      <td>Not Verified</td>\n",
       "      <td>MD</td>\n",
       "    </tr>\n",
       "    <tr>\n",
       "      <th>39716</th>\n",
       "      <td>7500</td>\n",
       "      <td>Fully Paid</td>\n",
       "      <td>36 months</td>\n",
       "      <td>13.75%</td>\n",
       "      <td>E</td>\n",
       "      <td>Jun-07</td>\n",
       "      <td>E2</td>\n",
       "      <td>22000.0</td>\n",
       "      <td>debt_consolidation</td>\n",
       "      <td>14.29</td>\n",
       "      <td>&lt; 1 year</td>\n",
       "      <td>OWN</td>\n",
       "      <td>Not Verified</td>\n",
       "      <td>MA</td>\n",
       "    </tr>\n",
       "  </tbody>\n",
       "</table>\n",
       "<p>39717 rows × 14 columns</p>\n",
       "</div>"
      ],
      "text/plain": [
       "       loan_amnt  loan_status        term int_rate grade issue_d sub_grade  \\\n",
       "0           5000   Fully Paid   36 months   10.65%     B  Dec-11        B2   \n",
       "1           2500  Charged Off   60 months   15.27%     C  Dec-11        C4   \n",
       "2           2400   Fully Paid   36 months   15.96%     C  Dec-11        C5   \n",
       "3          10000   Fully Paid   36 months   13.49%     C  Dec-11        C1   \n",
       "4           3000      Current   60 months   12.69%     B  Dec-11        B5   \n",
       "...          ...          ...         ...      ...   ...     ...       ...   \n",
       "39712       2500   Fully Paid   36 months    8.07%     A  Jul-07        A4   \n",
       "39713       8500   Fully Paid   36 months   10.28%     C  Jul-07        C1   \n",
       "39714       5000   Fully Paid   36 months    8.07%     A  Jul-07        A4   \n",
       "39715       5000   Fully Paid   36 months    7.43%     A  Jul-07        A2   \n",
       "39716       7500   Fully Paid   36 months   13.75%     E  Jun-07        E2   \n",
       "\n",
       "       annual_inc             purpose    dti emp_length home_ownership  \\\n",
       "0         24000.0         credit_card  27.65  10+ years           RENT   \n",
       "1         30000.0                 car   1.00   < 1 year           RENT   \n",
       "2         12252.0      small_business   8.72  10+ years           RENT   \n",
       "3         49200.0               other  20.00  10+ years           RENT   \n",
       "4         80000.0               other  17.94     1 year           RENT   \n",
       "...           ...                 ...    ...        ...            ...   \n",
       "39712    110000.0    home_improvement  11.33    4 years       MORTGAGE   \n",
       "39713     18000.0         credit_card   6.40    3 years           RENT   \n",
       "39714    100000.0  debt_consolidation   2.30   < 1 year       MORTGAGE   \n",
       "39715    200000.0               other   3.72   < 1 year       MORTGAGE   \n",
       "39716     22000.0  debt_consolidation  14.29   < 1 year            OWN   \n",
       "\n",
       "      verification_status addr_state  \n",
       "0                Verified         AZ  \n",
       "1         Source Verified         GA  \n",
       "2            Not Verified         IL  \n",
       "3         Source Verified         CA  \n",
       "4         Source Verified         OR  \n",
       "...                   ...        ...  \n",
       "39712        Not Verified         CO  \n",
       "39713        Not Verified         NC  \n",
       "39714        Not Verified         MA  \n",
       "39715        Not Verified         MD  \n",
       "39716        Not Verified         MA  \n",
       "\n",
       "[39717 rows x 14 columns]"
      ]
     },
     "execution_count": 93,
     "metadata": {},
     "output_type": "execute_result"
    }
   ],
   "source": [
    "#CleanData\n",
    "CleanData=loandata[[\"loan_amnt\",\"loan_status\",\"term\",\"int_rate\",\"grade\",\"issue_d\",\"sub_grade\",\"annual_inc\",\"purpose\",\"dti\",\"emp_length\",\"home_ownership\",\"verification_status\",\"addr_state\"\n",
    "]]\n",
    "CleanData"
   ]
  },
  {
   "cell_type": "code",
   "execution_count": 11,
   "id": "210f5717",
   "metadata": {
    "scrolled": true
   },
   "outputs": [
    {
     "name": "stdout",
     "output_type": "stream",
     "text": [
      "loan_amnt                 0\n",
      "loan_status               0\n",
      "term                      0\n",
      "int_rate                  0\n",
      "grade                     0\n",
      "issue_d                   0\n",
      "sub_grade                 0\n",
      "annual_inc                0\n",
      "purpose                   0\n",
      "dti                       0\n",
      "emp_length             1075\n",
      "home_ownership            0\n",
      "verification_status       0\n",
      "dtype: int64\n"
     ]
    }
   ],
   "source": [
    "count=CleanData.isnull().sum()\n",
    "print(count)"
   ]
  },
  {
   "cell_type": "markdown",
   "id": "c4b81388",
   "metadata": {},
   "source": [
    "# Data Type Conversion "
   ]
  },
  {
   "cell_type": "code",
   "execution_count": 69,
   "id": "9b9fec1f",
   "metadata": {},
   "outputs": [
    {
     "data": {
      "text/plain": [
       "loan_amnt                int64\n",
       "loan_status             object\n",
       "term                    object\n",
       "int_rate                object\n",
       "grade                   object\n",
       "issue_d                 object\n",
       "sub_grade               object\n",
       "annual_inc             float64\n",
       "purpose                 object\n",
       "dti                    float64\n",
       "emp_length              object\n",
       "home_ownership          object\n",
       "verification_status     object\n",
       "dtype: object"
      ]
     },
     "execution_count": 69,
     "metadata": {},
     "output_type": "execute_result"
    }
   ],
   "source": [
    "CleanData.dtypes"
   ]
  },
  {
   "cell_type": "code",
   "execution_count": 84,
   "id": "a899b395",
   "metadata": {},
   "outputs": [],
   "source": [
    "##from above analysis we found that int_rate is object and uses %. We need to  convert it into float.\n",
    "\n",
    "CleanData[\"int_rate\"] = CleanData[\"int_rate\"].astype(float)  \n"
   ]
  },
  {
   "cell_type": "code",
   "execution_count": 90,
   "id": "26c5ea29",
   "metadata": {
    "scrolled": false
   },
   "outputs": [
    {
     "data": {
      "text/plain": [
       "loan_amnt                int64\n",
       "loan_status             object\n",
       "term                    object\n",
       "int_rate               float64\n",
       "grade                   object\n",
       "issue_d                 object\n",
       "sub_grade               object\n",
       "annual_inc             float64\n",
       "purpose                 object\n",
       "dti                    float64\n",
       "emp_length              object\n",
       "home_ownership          object\n",
       "verification_status     object\n",
       "dtype: object"
      ]
     },
     "execution_count": 90,
     "metadata": {},
     "output_type": "execute_result"
    }
   ],
   "source": [
    "CleanData.dtypes\n",
    "\n",
    "##now we can see the data type of int_rate has changed into float from object."
   ]
  },
  {
   "cell_type": "markdown",
   "id": "46b8d92d",
   "metadata": {},
   "source": [
    "# Univariate , BiVariate,MultiVariate Analysis on Clean Data"
   ]
  },
  {
   "cell_type": "code",
   "execution_count": 23,
   "id": "ea40e93f",
   "metadata": {},
   "outputs": [
    {
     "data": {
      "text/html": [
       "<div>\n",
       "<style scoped>\n",
       "    .dataframe tbody tr th:only-of-type {\n",
       "        vertical-align: middle;\n",
       "    }\n",
       "\n",
       "    .dataframe tbody tr th {\n",
       "        vertical-align: top;\n",
       "    }\n",
       "\n",
       "    .dataframe thead th {\n",
       "        text-align: right;\n",
       "    }\n",
       "</style>\n",
       "<table border=\"1\" class=\"dataframe\">\n",
       "  <thead>\n",
       "    <tr style=\"text-align: right;\">\n",
       "      <th></th>\n",
       "      <th>loan_amnt</th>\n",
       "      <th>annual_inc</th>\n",
       "      <th>dti</th>\n",
       "    </tr>\n",
       "  </thead>\n",
       "  <tbody>\n",
       "    <tr>\n",
       "      <th>count</th>\n",
       "      <td>39717.000000</td>\n",
       "      <td>3.971700e+04</td>\n",
       "      <td>39717.000000</td>\n",
       "    </tr>\n",
       "    <tr>\n",
       "      <th>mean</th>\n",
       "      <td>11219.443815</td>\n",
       "      <td>6.896893e+04</td>\n",
       "      <td>13.315130</td>\n",
       "    </tr>\n",
       "    <tr>\n",
       "      <th>std</th>\n",
       "      <td>7456.670694</td>\n",
       "      <td>6.379377e+04</td>\n",
       "      <td>6.678594</td>\n",
       "    </tr>\n",
       "    <tr>\n",
       "      <th>min</th>\n",
       "      <td>500.000000</td>\n",
       "      <td>4.000000e+03</td>\n",
       "      <td>0.000000</td>\n",
       "    </tr>\n",
       "    <tr>\n",
       "      <th>25%</th>\n",
       "      <td>5500.000000</td>\n",
       "      <td>4.040400e+04</td>\n",
       "      <td>8.170000</td>\n",
       "    </tr>\n",
       "    <tr>\n",
       "      <th>50%</th>\n",
       "      <td>10000.000000</td>\n",
       "      <td>5.900000e+04</td>\n",
       "      <td>13.400000</td>\n",
       "    </tr>\n",
       "    <tr>\n",
       "      <th>75%</th>\n",
       "      <td>15000.000000</td>\n",
       "      <td>8.230000e+04</td>\n",
       "      <td>18.600000</td>\n",
       "    </tr>\n",
       "    <tr>\n",
       "      <th>max</th>\n",
       "      <td>35000.000000</td>\n",
       "      <td>6.000000e+06</td>\n",
       "      <td>29.990000</td>\n",
       "    </tr>\n",
       "  </tbody>\n",
       "</table>\n",
       "</div>"
      ],
      "text/plain": [
       "          loan_amnt    annual_inc           dti\n",
       "count  39717.000000  3.971700e+04  39717.000000\n",
       "mean   11219.443815  6.896893e+04     13.315130\n",
       "std     7456.670694  6.379377e+04      6.678594\n",
       "min      500.000000  4.000000e+03      0.000000\n",
       "25%     5500.000000  4.040400e+04      8.170000\n",
       "50%    10000.000000  5.900000e+04     13.400000\n",
       "75%    15000.000000  8.230000e+04     18.600000\n",
       "max    35000.000000  6.000000e+06     29.990000"
      ]
     },
     "execution_count": 23,
     "metadata": {},
     "output_type": "execute_result"
    }
   ],
   "source": [
    "##to get the statistical info of the clean data\n",
    "CleanData.describe()"
   ]
  },
  {
   "cell_type": "code",
   "execution_count": 34,
   "id": "4a05112e",
   "metadata": {
    "scrolled": true
   },
   "outputs": [
    {
     "name": "stdout",
     "output_type": "stream",
     "text": [
      "10000\n"
     ]
    }
   ],
   "source": [
    "##median of loan amount is 10000\n",
    "print(statistics.median(CleanData['loan_amnt']))"
   ]
  },
  {
   "cell_type": "code",
   "execution_count": 113,
   "id": "3f74b2e5",
   "metadata": {},
   "outputs": [
    {
     "data": {
      "text/plain": [
       "<AxesSubplot:xlabel='loan_amnt', ylabel='Density'>"
      ]
     },
     "execution_count": 113,
     "metadata": {},
     "output_type": "execute_result"
    },
    {
     "data": {
      "image/png": "[encoded data removed]",
      "text/plain": [
       "<Figure size 432x288 with 1 Axes>"
      ]
     },
     "metadata": {
      "needs_background": "light"
     },
     "output_type": "display_data"
    }
   ],
   "source": [
    "sns.distplot(CleanData[\"loan_amnt\"])\n",
    "## The Probability Distribution of the Loan Amount. Looks like majority has opted to apply a loan for USD $10000 which matches\n",
    "## with the above stats also. \n"
   ]
  },
  {
   "cell_type": "code",
   "execution_count": 101,
   "id": "2a454311",
   "metadata": {},
   "outputs": [
    {
     "data": {
      "text/plain": [
       "<AxesSubplot:>"
      ]
     },
     "execution_count": 101,
     "metadata": {},
     "output_type": "execute_result"
    },
    {
     "data": {
      "image/png": "[encoded data removed]",
      "text/plain": [
       "<Figure size 432x288 with 2 Axes>"
      ]
     },
     "metadata": {
      "needs_background": "light"
     },
     "output_type": "display_data"
    }
   ],
   "source": [
    "#Describing categorical column and continuous column list here.\n",
    "\n",
    "cat_col=[\"annual_inc\",\"loan_status\",\"term\",\"int_rate\",\"grade\",\"issue_d\",\"sub_grade\",\"dti\",\"purpose\",\"home_ownership\",\"verification_status\"]\n",
    "cont_col=[\"loan_amnt\",\"annual_inc\"]\n",
    "\n",
    "##This heatmap suggests a positive correlation between loan_amount and annual_inc.\n",
    "sns.heatmap(CleanData[cont_col].corr(),annot=True)"
   ]
  },
  {
   "cell_type": "code",
   "execution_count": 102,
   "id": "9024863e",
   "metadata": {},
   "outputs": [
    {
     "data": {
      "image/png": "[encoded data removed]",
      "text/plain": [
       "<Figure size 432x288 with 1 Axes>"
      ]
     },
     "metadata": {
      "needs_background": "light"
     },
     "output_type": "display_data"
    },
    {
     "data": {
      "image/png": "[encoded data removed]",
      "text/plain": [
       "<Figure size 432x288 with 1 Axes>"
      ]
     },
     "metadata": {
      "needs_background": "light"
     },
     "output_type": "display_data"
    }
   ],
   "source": [
    "\n",
    "##Identify Outliers\n",
    "cat_col=[\"annual_inc\",\"loan_status\",\"term\",\"int_rate\",\"grade\",\"issue_d\",\"sub_grade\",\"dti\",\"home_ownership\",\"verification_status\"]\n",
    "cont_col=[\"loan_amnt\",\"annual_inc\"]\n",
    "\n",
    "##Assumption is Few loan amounts are going beyond USD29000 based on the below outliers graph.\n",
    "##Also very few people has huge income.\n",
    "\n",
    "for i in cont_col:\n",
    "    sns.boxplot(CleanData[i])\n",
    "    plt.show()"
   ]
  },
  {
   "cell_type": "code",
   "execution_count": 59,
   "id": "1f046856",
   "metadata": {},
   "outputs": [
    {
     "data": {
      "text/html": [
       "<div>\n",
       "<style scoped>\n",
       "    .dataframe tbody tr th:only-of-type {\n",
       "        vertical-align: middle;\n",
       "    }\n",
       "\n",
       "    .dataframe tbody tr th {\n",
       "        vertical-align: top;\n",
       "    }\n",
       "\n",
       "    .dataframe thead th {\n",
       "        text-align: right;\n",
       "    }\n",
       "</style>\n",
       "<table border=\"1\" class=\"dataframe\">\n",
       "  <thead>\n",
       "    <tr style=\"text-align: right;\">\n",
       "      <th></th>\n",
       "      <th>loan_amnt</th>\n",
       "      <th>annual_inc</th>\n",
       "    </tr>\n",
       "  </thead>\n",
       "  <tbody>\n",
       "    <tr>\n",
       "      <th>count</th>\n",
       "      <td>39717.000000</td>\n",
       "      <td>3.971700e+04</td>\n",
       "    </tr>\n",
       "    <tr>\n",
       "      <th>mean</th>\n",
       "      <td>11219.443815</td>\n",
       "      <td>6.896893e+04</td>\n",
       "    </tr>\n",
       "    <tr>\n",
       "      <th>std</th>\n",
       "      <td>7456.670694</td>\n",
       "      <td>6.379377e+04</td>\n",
       "    </tr>\n",
       "    <tr>\n",
       "      <th>min</th>\n",
       "      <td>500.000000</td>\n",
       "      <td>4.000000e+03</td>\n",
       "    </tr>\n",
       "    <tr>\n",
       "      <th>25%</th>\n",
       "      <td>5500.000000</td>\n",
       "      <td>4.040400e+04</td>\n",
       "    </tr>\n",
       "    <tr>\n",
       "      <th>50%</th>\n",
       "      <td>10000.000000</td>\n",
       "      <td>5.900000e+04</td>\n",
       "    </tr>\n",
       "    <tr>\n",
       "      <th>75%</th>\n",
       "      <td>15000.000000</td>\n",
       "      <td>8.230000e+04</td>\n",
       "    </tr>\n",
       "    <tr>\n",
       "      <th>max</th>\n",
       "      <td>35000.000000</td>\n",
       "      <td>6.000000e+06</td>\n",
       "    </tr>\n",
       "  </tbody>\n",
       "</table>\n",
       "</div>"
      ],
      "text/plain": [
       "          loan_amnt    annual_inc\n",
       "count  39717.000000  3.971700e+04\n",
       "mean   11219.443815  6.896893e+04\n",
       "std     7456.670694  6.379377e+04\n",
       "min      500.000000  4.000000e+03\n",
       "25%     5500.000000  4.040400e+04\n",
       "50%    10000.000000  5.900000e+04\n",
       "75%    15000.000000  8.230000e+04\n",
       "max    35000.000000  6.000000e+06"
      ]
     },
     "execution_count": 59,
     "metadata": {},
     "output_type": "execute_result"
    }
   ],
   "source": [
    "CleanData[cont_col].describe()"
   ]
  },
  {
   "cell_type": "code",
   "execution_count": 110,
   "id": "5215d4ae",
   "metadata": {},
   "outputs": [
    {
     "name": "stdout",
     "output_type": "stream",
     "text": [
      "---------------- annual_inc -------------------\n"
     ]
    },
    {
     "data": {
      "image/png": "[encoded data removed]",
      "text/plain": [
       "<Figure size 1440x288 with 1 Axes>"
      ]
     },
     "metadata": {
      "needs_background": "light"
     },
     "output_type": "display_data"
    },
    {
     "name": "stdout",
     "output_type": "stream",
     "text": [
      "---------------- loan_status -------------------\n"
     ]
    },
    {
     "data": {
      "image/png": "[encoded data removed]",
      "text/plain": [
       "<Figure size 432x288 with 1 Axes>"
      ]
     },
     "metadata": {
      "needs_background": "light"
     },
     "output_type": "display_data"
    },
    {
     "name": "stdout",
     "output_type": "stream",
     "text": [
      "---------------- term -------------------\n"
     ]
    },
    {
     "data": {
      "image/png": "[encoded data removed]",
      "text/plain": [
       "<Figure size 432x288 with 1 Axes>"
      ]
     },
     "metadata": {
      "needs_background": "light"
     },
     "output_type": "display_data"
    },
    {
     "name": "stdout",
     "output_type": "stream",
     "text": [
      "---------------- int_rate -------------------\n"
     ]
    },
    {
     "data": {
      "image/png": "[encoded data removed]",
      "text/plain": [
       "<Figure size 432x288 with 1 Axes>"
      ]
     },
     "metadata": {
      "needs_background": "light"
     },
     "output_type": "display_data"
    },
    {
     "name": "stdout",
     "output_type": "stream",
     "text": [
      "---------------- grade -------------------\n"
     ]
    },
    {
     "data": {
      "image/png": "[encoded data removed]",
      "text/plain": [
       "<Figure size 432x288 with 1 Axes>"
      ]
     },
     "metadata": {
      "needs_background": "light"
     },
     "output_type": "display_data"
    },
    {
     "name": "stdout",
     "output_type": "stream",
     "text": [
      "---------------- issue_d -------------------\n"
     ]
    },
    {
     "data": {
      "image/png": "[encoded data removed]",
      "text/plain": [
       "<Figure size 432x288 with 1 Axes>"
      ]
     },
     "metadata": {
      "needs_background": "light"
     },
     "output_type": "display_data"
    },
    {
     "name": "stdout",
     "output_type": "stream",
     "text": [
      "---------------- sub_grade -------------------\n"
     ]
    },
    {
     "data": {
      "image/png": "[encoded data removed]",
      "text/plain": [
       "<Figure size 432x288 with 1 Axes>"
      ]
     },
     "metadata": {
      "needs_background": "light"
     },
     "output_type": "display_data"
    },
    {
     "name": "stdout",
     "output_type": "stream",
     "text": [
      "---------------- dti -------------------\n"
     ]
    },
    {
     "data": {
      "image/png": "[encoded data removed]",
      "text/plain": [
       "<Figure size 432x288 with 1 Axes>"
      ]
     },
     "metadata": {
      "needs_background": "light"
     },
     "output_type": "display_data"
    },
    {
     "name": "stdout",
     "output_type": "stream",
     "text": [
      "---------------- home_ownership -------------------\n"
     ]
    },
    {
     "data": {
      "image/png": "[encoded data removed]",
      "text/plain": [
       "<Figure size 432x288 with 1 Axes>"
      ]
     },
     "metadata": {
      "needs_background": "light"
     },
     "output_type": "display_data"
    },
    {
     "name": "stdout",
     "output_type": "stream",
     "text": [
      "---------------- verification_status -------------------\n"
     ]
    },
    {
     "data": {
      "image/png": "[encoded data removed]",
      "text/plain": [
       "<Figure size 432x288 with 1 Axes>"
      ]
     },
     "metadata": {
      "needs_background": "light"
     },
     "output_type": "display_data"
    }
   ],
   "source": [
    "plt.figure(figsize=(20,4))\n",
    "for i in cat_col:\n",
    "    print(\"----------------\",i,\"-------------------\")\n",
    "    sns.countplot(CleanData[i])\n",
    "    plt.show()\n",
    "    \n",
    "##countplots for all the elements present in categorical column.\n",
    "##Majority of the Loan Takers lives under Rent.\n",
    "##Maximum number of loan takers has already paid their loans\n",
    "##More loan takers are opting for 36 months term. \n",
    "##B grade loans are more popular among loan takers.Sub_grade B3 type of loan is topping the charts.\n",
    "##Majority of the loan takers income is not verified by Lending Club. This is major flaw which needs to be rectified if LC wants to avoid risky loan takers.\n"
   ]
  },
  {
   "cell_type": "code",
   "execution_count": 66,
   "id": "29f9300f",
   "metadata": {},
   "outputs": [
    {
     "data": {
      "text/plain": [
       "<AxesSubplot:xlabel='term', ylabel='loan_amnt'>"
      ]
     },
     "execution_count": 66,
     "metadata": {},
     "output_type": "execute_result"
    },
    {
     "data": {
      "image/png": "[encoded data removed]",
      "text/plain": [
       "<Figure size 432x288 with 1 Axes>"
      ]
     },
     "metadata": {
      "needs_background": "light"
     },
     "output_type": "display_data"
    }
   ],
   "source": [
    "sns.boxplot(x=CleanData[\"term\"],y=CleanData[\"loan_amnt\"],hue=CleanData[\"loan_status\"])\n",
    "## The defaulters rate is high in 60 months tenure. Looks like most people who took high loan amount in high interest rate have become defaulters and facing it hard to return back the loan.\n"
   ]
  },
  {
   "cell_type": "code",
   "execution_count": 91,
   "id": "b942af24",
   "metadata": {},
   "outputs": [
    {
     "data": {
      "text/plain": [
       "<AxesSubplot:xlabel='term', ylabel='int_rate'>"
      ]
     },
     "execution_count": 91,
     "metadata": {},
     "output_type": "execute_result"
    },
    {
     "data": {
      "image/png": "[encoded data removed]",
      "text/plain": [
       "<Figure size 432x288 with 1 Axes>"
      ]
     },
     "metadata": {
      "needs_background": "light"
     },
     "output_type": "display_data"
    }
   ],
   "source": [
    "sns.boxplot(x=CleanData[\"term\"],y=CleanData[\"int_rate\"],hue=CleanData[\"loan_status\"]) \n",
    "##conclusion is The defaulters rate is high in 60 months tenure. Looks like most people who took high loan amount in high interest rate have become defaulters and facing it hard to return back the loan.\n"
   ]
  },
  {
   "cell_type": "code",
   "execution_count": 109,
   "id": "9bcfa659",
   "metadata": {},
   "outputs": [
    {
     "data": {
      "text/plain": [
       "<AxesSubplot:xlabel='addr_state', ylabel='Count'>"
      ]
     },
     "execution_count": 109,
     "metadata": {},
     "output_type": "execute_result"
    },
    {
     "data": {
      "image/png": "[encoded data removed]",
      "text/plain": [
       "<Figure size 1440x288 with 1 Axes>"
      ]
     },
     "metadata": {
      "needs_background": "light"
     },
     "output_type": "display_data"
    }
   ],
   "source": [
    "plt.figure(figsize=(20,4))\n",
    "sns.histplot(CleanData[\"addr_state\"]) \n",
    "##conclusion is CA and NY residents are most of the loan takers."
   ]
  },
  {
   "cell_type": "code",
   "execution_count": 112,
   "id": "b71d7ecb",
   "metadata": {},
   "outputs": [
    {
     "data": {
      "text/plain": [
       "<AxesSubplot:xlabel='purpose', ylabel='Count'>"
      ]
     },
     "execution_count": 112,
     "metadata": {},
     "output_type": "execute_result"
    },
    {
     "data": {
      "image/png": "[encoded data removed]",
      "text/plain": [
       "<Figure size 1584x288 with 1 Axes>"
      ]
     },
     "metadata": {
      "needs_background": "light"
     },
     "output_type": "display_data"
    }
   ],
   "source": [
    "plt.figure(figsize=(22,4))\n",
    "sns.histplot(CleanData[\"purpose\"]) \n",
    "##conclusion is people take loans the most for debt_consolidation and least for renewable energy."
   ]
  },
  {
   "cell_type": "code",
   "execution_count": 120,
   "id": "89472c63",
   "metadata": {
    "scrolled": true
   },
   "outputs": [
    {
     "data": {
      "image/png": "[encoded data removed]",
      "text/plain": [
       "<Figure size 576x576 with 2 Axes>"
      ]
     },
     "metadata": {
      "needs_background": "light"
     },
     "output_type": "display_data"
    }
   ],
   "source": [
    "#Finding correlation matric\n",
    "corr_matrix = CleanData.corr()\n",
    "plt.figure(figsize=(8,8))\n",
    "#plotting correlatioon matric on a heat map\n",
    "ac = sns.heatmap(corr_matrix, annot = True, cmap='Blues')\n",
    "top, bottom = ac.get_ylim()\n",
    "ac.set_ylim(top+0.25, bottom-0.25)\n",
    "plt.title(\"Correlation between Columns\")\n",
    "plt.show()"
   ]
  },
  {
   "cell_type": "code",
   "execution_count": null,
   "id": "1528d7f8",
   "metadata": {},
   "outputs": [],
   "source": []
  }
 ],
 "metadata": {
  "kernelspec": {
   "display_name": "Python 3 (ipykernel)",
   "language": "python",
   "name": "python3"
  },
  "language_info": {
   "codemirror_mode": {
    "name": "ipython",
    "version": 3
   },
   "file_extension": ".py",
   "mimetype": "text/x-python",
   "name": "python",
   "nbconvert_exporter": "python",
   "pygments_lexer": "ipython3",
   "version": "3.9.12"
  }
 },
 "nbformat": 4,
 "nbformat_minor": 5
}
